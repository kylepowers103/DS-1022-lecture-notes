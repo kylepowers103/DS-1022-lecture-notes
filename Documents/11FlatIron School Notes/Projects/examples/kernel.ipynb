{
  "cells": [
    {
      "metadata": {
        "_uuid": "8066eeb9c71cdc081412082ce6e192318ad4ddbf",
        "_cell_guid": "527eaed1-994d-4bef-b549-6b320cafff11",
        "trusted": false
      },
      "cell_type": "code",
      "source": "# Importing the libraries\nimport numpy as np\nimport pandas as pd\nfrom keras.models import Sequential\nfrom keras.layers import Dense\nfrom keras.wrappers.scikit_learn import KerasRegressor\nfrom sklearn.preprocessing import StandardScaler\nfrom matplotlib import pyplot as plt\nimport seaborn as sns\nimport warnings\nwarnings.filterwarnings('ignore')\nfrom sklearn.model_selection import train_test_split",
      "execution_count": null,
      "outputs": []
    },
    {
      "metadata": {
        "_uuid": "11d25a753d3c7bb5f1608683a032e99a200d29cb",
        "_cell_guid": "51b0dfa3-d4ca-454f-b53d-cdde1f5a23fb",
        "trusted": false
      },
      "cell_type": "code",
      "source": "# Importing the dataset\ndf = pd.read_csv('../input/nyc-rolling-sales.csv')\ndf.head()",
      "execution_count": null,
      "outputs": []
    },
    {
      "metadata": {
        "collapsed": true,
        "_uuid": "25c93ce28409b4797c77d525692570dd9f2788d9",
        "_cell_guid": "861b13bb-cc1e-4527-bd12-e2d4d6281a68",
        "trusted": false
      },
      "cell_type": "code",
      "source": "# Data processing\ndf = df.drop(df[df['SALE PRICE']==' -  '].index)\ndf= df.reset_index()\ndf['SALE PRICE'] = df['SALE PRICE'].apply(lambda x: int(x))\nfor i in range(len(df)):\n    if df.at[i,'ADDRESS'].find(',')!=-1:\n        df.at[i,'ADDRESS'] = df.at[i,'ADDRESS'][:min(df.at[i,'ADDRESS'].find(','),len(df.at[i,'ADDRESS']))]\n    df.at[i,'ADDRESS'] = df.at[i,'ADDRESS'][df.at[i,'ADDRESS'].find(' '):]\nfor i in range(len(df)):\n    if df.at[i,'LAND SQUARE FEET'] == ' -  ':\n        df.at[i,'LAND SQUARE FEET'] = int(0)\n    else:\n        df.at[i,'LAND SQUARE FEET'] = int(df.at[i,'LAND SQUARE FEET'])\nfor i in range(len(df)):\n    if df.at[i,'GROSS SQUARE FEET'] == ' -  ':\n        df.at[i,'GROSS SQUARE FEET'] = int(0)\n    else:\n        df.at[i,'GROSS SQUARE FEET'] = int(df.at[i,'GROSS SQUARE FEET'])\ndf['SALE DATE'] = df['SALE DATE'].apply(lambda x: int(x[:4]+x[5:7]+x[8:10]))\ndf['SALE DATE'] = df['SALE DATE'].astype(int)\ndf = df[df['SALE PRICE'] != 0]",
      "execution_count": null,
      "outputs": []
    },
    {
      "metadata": {
        "collapsed": true,
        "_uuid": "1be5a854d9dd66ae711dad2fa1ed33fca926cf8a",
        "_cell_guid": "50019693-4b82-4576-9cda-a5f61611c1f8",
        "trusted": false
      },
      "cell_type": "code",
      "source": "# Getting the dependent variables and independent variables\nX = df[['BOROUGH','NEIGHBORHOOD','BUILDING CLASS CATEGORY','TAX CLASS AT PRESENT','BLOCK','LOT','BUILDING CLASS AT PRESENT','ADDRESS','ZIP CODE','RESIDENTIAL UNITS','COMMERCIAL UNITS','TOTAL UNITS','LAND SQUARE FEET','GROSS SQUARE FEET','YEAR BUILT','TAX CLASS AT TIME OF SALE','BUILDING CLASS AT TIME OF SALE','SALE DATE']].values\ny = df['SALE PRICE'].values\n# Encoding categorical data\nfrom sklearn.preprocessing import LabelEncoder, OneHotEncoder\nlabelencoder_X_1 = LabelEncoder()\nX[:, 1] = labelencoder_X_1.fit_transform(X[:, 1])\nlabelencoder_X_2 = LabelEncoder()\nX[:, 2] = labelencoder_X_2.fit_transform(X[:, 2])\nlabelencoder_X_3 = LabelEncoder()\nX[:, 3] = labelencoder_X_3.fit_transform(X[:, 3])\nlabelencoder_X_6 = LabelEncoder()\nX[:, 6] = labelencoder_X_6.fit_transform(X[:, 6])\nlabelencoder_X_7 = LabelEncoder()\nX[:, 7] = labelencoder_X_7.fit_transform(X[:, 7])\nlabelencoder_X_16 = LabelEncoder()\nX[:, 16] = labelencoder_X_16.fit_transform(X[:, 16])",
      "execution_count": null,
      "outputs": []
    },
    {
      "metadata": {
        "collapsed": true,
        "_uuid": "b0ae16c301dccfd6d0c5f29074ff27bb2e450808",
        "trusted": false
      },
      "cell_type": "code",
      "source": "# Splitting the training set and test set\nX_train, X_test, y_train, y_test = train_test_split(X, y, test_size = 0.02, random_state = 0)\n# Feature Scaling\nsc = StandardScaler()\nX_train = sc.fit_transform(X_train)\nX_test = sc.transform(X_test)",
      "execution_count": null,
      "outputs": []
    },
    {
      "metadata": {
        "collapsed": true,
        "_uuid": "ff57dbcf146880cc788d4cda43e70f486052916c",
        "trusted": false
      },
      "cell_type": "code",
      "source": "# define base model\ndef baseline_model():\n    # create model\n    model = Sequential()\n    model.add(Dense(18, input_dim=18, kernel_initializer='normal', activation='relu'))\n    model.add(Dense(output_dim = 18, init = 'uniform', activation = 'relu'))\n    model.add(Dense(output_dim = 18, init = 'uniform', activation = 'relu'))\n    model.add(Dense(1, kernel_initializer='normal'))\n    # Compile model\n    model.compile(loss='mean_squared_error', optimizer='adam')\n    return model\n# Fitting to the training set\nestimator = KerasRegressor(build_fn=baseline_model, epochs=150, batch_size=10, verbose=False)\nestimator.fit(X_train, y_train)\n# Predicting the results\nprediction = estimator.predict(X_test)",
      "execution_count": null,
      "outputs": []
    },
    {
      "metadata": {
        "scrolled": false,
        "_uuid": "ea367bc0a8d729699a6d672655e57b9f0bcf59ef",
        "trusted": false
      },
      "cell_type": "code",
      "source": "# Visualization the results and evaluation\nn = 12\nlength = len(prediction)\nsns.set_style('darkgrid', {'axis.facecolor':'black'})\nf, axes = plt.subplots(n, 1, figsize=(20,100))\ntimes = 0\nfor i in range(n):\n    if i == 0:\n        plt.sca(axes[0])\n        plt.plot(y_test[:round(length/n)], color = 'red', label = 'Real Price')\n        plt.plot(prediction[:round(length/n)], color = 'blue', label = 'Predicted Price')\n        plt.title('NYC Property Price Prediction', fontsize=30)\n        plt.ylabel('Price', fontsize=20)\n        plt.legend(loc=1, prop={'size': 10})\n    else:\n        if i == n-1:\n            plt.sca(axes[n-1])\n            plt.plot(y_test[round(length/n*(n-1)):], color = 'red', label = 'Real Price')\n            plt.plot(prediction[round(length/n*(n-1)):], color = 'blue', label = 'Predicted Price')\n            plt.ylabel('Price', fontsize=20)\n            plt.legend(loc=1, prop={'size': 10})\n        else:\n            plt.sca(axes[i])\n            plt.plot(y_test[round(length/n*i):round(length/n*(i+1))], color = 'red', label = 'Real Price')\n            plt.plot(prediction[round(length/n*i):round(length/n*(i+1))], color = 'blue', label = 'Predicted Price')\n            plt.ylabel('Price', fontsize=20)\n            plt.legend(loc=1, prop={'size': 10})\nplt.show()",
      "execution_count": null,
      "outputs": []
    },
    {
      "metadata": {
        "_uuid": "7291dc0634289ce4096da923369b2239220e2a70"
      },
      "cell_type": "markdown",
      "source": "***Thank you!***"
    }
  ],
  "metadata": {
    "language_info": {
      "version": "3.6.3",
      "pygments_lexer": "ipython3",
      "file_extension": ".py",
      "mimetype": "text/x-python",
      "codemirror_mode": {
        "name": "ipython",
        "version": 3
      },
      "nbconvert_exporter": "python",
      "name": "python"
    },
    "kernelspec": {
      "display_name": "Python 3",
      "language": "python",
      "name": "python3"
    }
  },
  "nbformat": 4,
  "nbformat_minor": 1
}